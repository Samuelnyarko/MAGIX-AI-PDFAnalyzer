{
 "cells": [
  {
   "cell_type": "code",
   "execution_count": 1,
   "id": "eea3989c",
   "metadata": {
    "ExecuteTime": {
     "end_time": "2023-08-19T19:16:05.372281Z",
     "start_time": "2023-08-19T19:16:05.338462Z"
    }
   },
   "outputs": [
    {
     "name": "stderr",
     "output_type": "stream",
     "text": [
      "2023-08-19 23:10:24.307 \n",
      "  \u001b[33m\u001b[1mWarning:\u001b[0m to view this Streamlit app on a browser, run it with the following\n",
      "  command:\n",
      "\n",
      "    streamlit run /usr/local/lib/python3.8/site-packages/ipykernel_launcher.py [ARGUMENTS]\n"
     ]
    }
   ],
   "source": [
    "from dotenv import load_dotenv\n",
    "import streamlit as st\n",
    "from PyPDF2 import PdfReader\n",
    "from langchain.text_splitter import CharacterTextSplitter\n",
    "from langchain.embeddings.openai import OpenAIEmbeddings\n",
    "from langchain.vectorstores import FAISS\n",
    "from langchain.chains.question_answering import load_qa_chain\n",
    "from langchain.llms import OpenAI\n",
    "from langchain.callbacks import get_openai_callback\n",
    "\n",
    "\n",
    "def main():\n",
    "    load_dotenv()\n",
    "    st.set_page_config(page_title=\"Ask your PDF\")\n",
    "    st.header(\"Ask your PDF 💬\")\n",
    "    \n",
    "    # upload file\n",
    "    pdf = st.file_uploader(\"Upload your PDF\", type=\"pdf\")\n",
    "    \n",
    "    # extract the text\n",
    "    if pdf is not None:\n",
    "      pdf_reader = PdfReader(pdf)\n",
    "      text = \"\"\n",
    "      for page in pdf_reader.pages:\n",
    "        text += page.extract_text()\n",
    "        \n",
    "      # split into chunks\n",
    "      text_splitter = CharacterTextSplitter(\n",
    "        separator=\"\\n\",\n",
    "        chunk_size=1000,\n",
    "        chunk_overlap=200,\n",
    "        length_function=len\n",
    "      )\n",
    "      chunks = text_splitter.split_text(text)\n",
    "      \n",
    "      # create embeddings\n",
    "      embeddings = OpenAIEmbeddings()\n",
    "      knowledge_base = FAISS.from_texts(chunks, embeddings)\n",
    "      \n",
    "      # show user input\n",
    "      user_question = st.text_input(\"Ask a question about your PDF:\")\n",
    "      if user_question:\n",
    "        docs = knowledge_base.similarity_search(user_question)\n",
    "        \n",
    "        llm = OpenAI()\n",
    "        chain = load_qa_chain(llm, chain_type=\"stuff\")\n",
    "        with get_openai_callback() as cb:\n",
    "          response = chain.run(input_documents=docs, question=user_question)\n",
    "          print(cb)\n",
    "           \n",
    "        st.write(response)\n",
    "    \n",
    "\n",
    "if __name__ == '__main__':\n",
    "    main()\n"
   ]
  },
  {
   "cell_type": "code",
   "execution_count": null,
   "id": "b49839dd",
   "metadata": {},
   "outputs": [],
   "source": []
  }
 ],
 "metadata": {
  "kernelspec": {
   "display_name": "Python 3 (ipykernel)",
   "language": "python",
   "name": "python3"
  },
  "language_info": {
   "codemirror_mode": {
    "name": "ipython",
    "version": 3
   },
   "file_extension": ".py",
   "mimetype": "text/x-python",
   "name": "python",
   "nbconvert_exporter": "python",
   "pygments_lexer": "ipython3",
   "version": "3.8.17"
  },
  "toc": {
   "base_numbering": 1,
   "nav_menu": {},
   "number_sections": true,
   "sideBar": true,
   "skip_h1_title": false,
   "title_cell": "Table of Contents",
   "title_sidebar": "Contents",
   "toc_cell": false,
   "toc_position": {},
   "toc_section_display": true,
   "toc_window_display": false
  },
  "varInspector": {
   "cols": {
    "lenName": 16,
    "lenType": 16,
    "lenVar": 40
   },
   "kernels_config": {
    "python": {
     "delete_cmd_postfix": "",
     "delete_cmd_prefix": "del ",
     "library": "var_list.py",
     "varRefreshCmd": "print(var_dic_list())"
    },
    "r": {
     "delete_cmd_postfix": ") ",
     "delete_cmd_prefix": "rm(",
     "library": "var_list.r",
     "varRefreshCmd": "cat(var_dic_list()) "
    }
   },
   "types_to_exclude": [
    "module",
    "function",
    "builtin_function_or_method",
    "instance",
    "_Feature"
   ],
   "window_display": false
  }
 },
 "nbformat": 4,
 "nbformat_minor": 5
}
